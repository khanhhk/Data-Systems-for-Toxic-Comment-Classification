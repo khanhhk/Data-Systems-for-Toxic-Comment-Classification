{
 "cells": [
  {
   "cell_type": "code",
   "execution_count": 8,
   "metadata": {},
   "outputs": [],
   "source": [
    "import great_expectations as gx\n",
    "import re\n",
    "\n",
    "# Create a DataContext as an entry point to the GX Python API\n",
    "context = gx.get_context()"
   ]
  },
  {
   "cell_type": "code",
   "execution_count": 9,
   "metadata": {},
   "outputs": [],
   "source": [
    "datasource_name = \"my_ds2\"\n",
    "my_connection_string = (\n",
    "    \"postgresql+psycopg2://k6:k6@localhost:5432/k6\"\n",
    ")\n",
    "\n",
    "pg_datasource = context.sources.add_postgres(\n",
    "    name=datasource_name, connection_string=my_connection_string\n",
    ")"
   ]
  },
  {
   "cell_type": "code",
   "execution_count": 10,
   "metadata": {},
   "outputs": [
    {
     "data": {
      "text/plain": [
       "TableAsset(name='my_ds2', type='table', id=None, order_by=[], batch_metadata={}, splitter=None, table_name='test_1', schema_name='staging')"
      ]
     },
     "execution_count": 10,
     "metadata": {},
     "output_type": "execute_result"
    }
   ],
   "source": [
    "pg_datasource.add_table_asset(\n",
    "    name=\"my_ds2\", table_name='test_1', schema_name=\"staging\"\n",
    ")"
   ]
  },
  {
   "cell_type": "code",
   "execution_count": 11,
   "metadata": {},
   "outputs": [],
   "source": [
    "batch_request = pg_datasource.get_asset(\"my_ds2\").build_batch_request()"
   ]
  },
  {
   "cell_type": "code",
   "execution_count": 12,
   "metadata": {},
   "outputs": [
    {
     "data": {
      "application/vnd.jupyter.widget-view+json": {
       "model_id": "95e5871f7b2849269086d0c2ed757f07",
       "version_major": 2,
       "version_minor": 0
      },
      "text/plain": [
       "Calculating Metrics:   0%|          | 0/1 [00:00<?, ?it/s]"
      ]
     },
     "metadata": {},
     "output_type": "display_data"
    },
    {
     "name": "stdout",
     "output_type": "stream",
     "text": [
      "   labels                                          input_ids  \\\n",
      "0       0  {101,7526,2339,1996,10086,2015,2081,2104,2026,...   \n",
      "1       0  {101,1040,1005,22091,2860,999,2002,3503,2023,4...   \n",
      "2       0  {101,4931,2158,1010,1045,1005,1049,2428,2025,2...   \n",
      "3       0  {101,1000,2062,1045,2064,1005,1056,2191,2151,2...   \n",
      "4       0  {101,2017,1010,2909,1010,2024,2026,5394,1012,2...   \n",
      "\n",
      "                                      attention_mask  \n",
      "0  {1,1,1,1,1,1,1,1,1,1,1,1,1,1,1,1,1,1,1,1,1,1,1...  \n",
      "1  {1,1,1,1,1,1,1,1,1,1,1,1,1,1,1,1,1,1,1,1,1,1,1...  \n",
      "2  {1,1,1,1,1,1,1,1,1,1,1,1,1,1,1,1,1,1,1,1,1,1,1...  \n",
      "3  {1,1,1,1,1,1,1,1,1,1,1,1,1,1,1,1,1,1,1,1,1,1,1...  \n",
      "4        {1,1,1,1,1,1,1,1,1,1,1,1,1,1,1,1,1,1,1,1,1}  \n"
     ]
    }
   ],
   "source": [
    "expectation_suite_name = \"validate_data\"\n",
    "context.add_or_update_expectation_suite(expectation_suite_name=expectation_suite_name)\n",
    "validator = context.get_validator(\n",
    "    batch_request=batch_request,\n",
    "    expectation_suite_name=expectation_suite_name,\n",
    ")\n",
    "\n",
    "print(validator.head())"
   ]
  },
  {
   "cell_type": "code",
   "execution_count": 15,
   "metadata": {},
   "outputs": [
    {
     "data": {
      "application/vnd.jupyter.widget-view+json": {
       "model_id": "a9b2c41270504f9baf539a46dd9b63d2",
       "version_major": 2,
       "version_minor": 0
      },
      "text/plain": [
       "Calculating Metrics:   0%|          | 0/2 [00:00<?, ?it/s]"
      ]
     },
     "metadata": {},
     "output_type": "display_data"
    },
    {
     "name": "stdout",
     "output_type": "stream",
     "text": [
      "['labels', 'input_ids', 'attention_mask']\n"
     ]
    }
   ],
   "source": [
    "print(validator.columns())"
   ]
  },
  {
   "cell_type": "code",
   "execution_count": 16,
   "metadata": {},
   "outputs": [
    {
     "data": {
      "application/vnd.jupyter.widget-view+json": {
       "model_id": "29f2e605f1ae4cad8e6477a7c9faa7cd",
       "version_major": 2,
       "version_minor": 0
      },
      "text/plain": [
       "Calculating Metrics:   0%|          | 0/8 [00:00<?, ?it/s]"
      ]
     },
     "metadata": {},
     "output_type": "display_data"
    },
    {
     "data": {
      "application/vnd.jupyter.widget-view+json": {
       "model_id": "d078935ee6b14f02a3f0895dec6f39c3",
       "version_major": 2,
       "version_minor": 0
      },
      "text/plain": [
       "Calculating Metrics:   0%|          | 0/8 [00:00<?, ?it/s]"
      ]
     },
     "metadata": {},
     "output_type": "display_data"
    },
    {
     "data": {
      "application/vnd.jupyter.widget-view+json": {
       "model_id": "4d0be1281a524095b4a7b84d306d597b",
       "version_major": 2,
       "version_minor": 0
      },
      "text/plain": [
       "Calculating Metrics:   0%|          | 0/8 [00:00<?, ?it/s]"
      ]
     },
     "metadata": {},
     "output_type": "display_data"
    },
    {
     "data": {
      "application/vnd.jupyter.widget-view+json": {
       "model_id": "0c7e54a343e8418c91e1742d9294a2ef",
       "version_major": 2,
       "version_minor": 0
      },
      "text/plain": [
       "Calculating Metrics:   0%|          | 0/11 [00:00<?, ?it/s]"
      ]
     },
     "metadata": {},
     "output_type": "display_data"
    },
    {
     "data": {
      "application/vnd.jupyter.widget-view+json": {
       "model_id": "b16e9a74835444eaa9491d0e29fc0a52",
       "version_major": 2,
       "version_minor": 0
      },
      "text/plain": [
       "Calculating Metrics:   0%|          | 0/2 [00:00<?, ?it/s]"
      ]
     },
     "metadata": {},
     "output_type": "display_data"
    },
    {
     "data": {
      "application/vnd.jupyter.widget-view+json": {
       "model_id": "4661a06f7aaf43a6bdfb5f691deaa3c1",
       "version_major": 2,
       "version_minor": 0
      },
      "text/plain": [
       "Calculating Metrics:   0%|          | 0/11 [00:00<?, ?it/s]"
      ]
     },
     "metadata": {},
     "output_type": "display_data"
    },
    {
     "data": {
      "application/vnd.jupyter.widget-view+json": {
       "model_id": "37bddca63cf74413acd76220664d3e73",
       "version_major": 2,
       "version_minor": 0
      },
      "text/plain": [
       "Calculating Metrics:   0%|          | 0/11 [00:00<?, ?it/s]"
      ]
     },
     "metadata": {},
     "output_type": "display_data"
    }
   ],
   "source": [
    "validator.expect_column_values_to_not_be_null(\"labels\")\n",
    "validator.expect_column_values_to_not_be_null(\"input_ids\")\n",
    "validator.expect_column_values_to_not_be_null(\"attention_mask\")\n",
    "validator.expect_column_values_to_be_in_set(\"labels\", [0, 1])\n",
    "\n",
    "if \"id\" in validator.columns():\n",
    "    validator.expect_column_values_to_not_be_null(\"id\")\n",
    "    validator.expect_column_values_to_be_unique(\"id\")\n",
    "    \n",
    "    uuid_v4_regex = r\"^[0-9a-f]{8}-[0-9a-f]{4}-[1-5][0-9a-f]{3}-[89ab][0-9a-f]{3}-[0-9a-f]{12}$\"\n",
    "    validator.expect_column_values_to_match_regex(\"id\", uuid_v4_regex, mostly=1.0)\n",
    "\n",
    "    # Áp dụng regex cho JSON array dạng [1, 2, 3]\n",
    "    json_array_of_ints = r\"^\\s*\\[\\s*\\d+(?:\\s*,\\s*\\d+)*\\s*\\]\\s*$\"\n",
    "    mask_pattern = r\"^\\s*\\[\\s*[01](?:\\s*,\\s*[01])*\\s*\\]\\s*$\"\n",
    "    \n",
    "    validator.expect_column_values_to_match_regex(\"input_ids\", json_array_of_ints)\n",
    "    validator.expect_column_values_to_match_regex(\"attention_mask\", mask_pattern)\n",
    "\n",
    "else:\n",
    "    # Nếu là test_1, dùng dạng Postgres array string: {1,2,3}\n",
    "    pg_array_of_ints = r\"^\\s*\\{\\s*\\d+(?:\\s*,\\s*\\d+)*\\s*\\}\\s*$\"\n",
    "    mask_pg_pattern = r\"^\\s*\\{\\s*[01](?:\\s*,\\s*[01])*\\s*\\}\\s*$\"\n",
    "\n",
    "    validator.expect_column_values_to_match_regex(\"input_ids\", pg_array_of_ints)\n",
    "    validator.expect_column_values_to_match_regex(\"attention_mask\", mask_pg_pattern)"
   ]
  },
  {
   "cell_type": "code",
   "execution_count": 17,
   "metadata": {},
   "outputs": [
    {
     "data": {
      "application/vnd.jupyter.widget-view+json": {
       "model_id": "ace48795cb044ab48d6ef6b36ab80530",
       "version_major": 2,
       "version_minor": 0
      },
      "text/plain": [
       "Calculating Metrics: 0it [00:00, ?it/s]"
      ]
     },
     "metadata": {},
     "output_type": "display_data"
    },
    {
     "name": "stdout",
     "output_type": "stream",
     "text": [
      "Opening in existing browser session.\n"
     ]
    }
   ],
   "source": [
    "# Similar to a single file, create a checkpoint to validate the result\n",
    "# Define the checkpoint\n",
    "checkpoint = context.add_or_update_checkpoint(\n",
    "    name=\"staging_checkpoint\",\n",
    "    validator=validator\n",
    ")\n",
    "\n",
    "# Get the result after validator\n",
    "checkpoint_result = checkpoint.run()\n",
    "\n",
    "# Quick view on the validation result\n",
    "context.view_validation_result(checkpoint_result)"
   ]
  }
 ],
 "metadata": {
  "kernelspec": {
   "display_name": "m2",
   "language": "python",
   "name": "python3"
  },
  "language_info": {
   "codemirror_mode": {
    "name": "ipython",
    "version": 3
   },
   "file_extension": ".py",
   "mimetype": "text/x-python",
   "name": "python",
   "nbconvert_exporter": "python",
   "pygments_lexer": "ipython3",
   "version": "3.9.23"
  }
 },
 "nbformat": 4,
 "nbformat_minor": 2
}
