{
 "cells": [
  {
   "cell_type": "code",
   "execution_count": 21,
   "metadata": {},
   "outputs": [],
   "source": [
    "import great_expectations as gx\n",
    "from great_expectations.checkpoint import Checkpoint\n",
    "\n",
    "# Create a DataContext as an entry point to the GX Python API\n",
    "context = gx.get_context()"
   ]
  },
  {
   "cell_type": "code",
   "execution_count": 22,
   "metadata": {},
   "outputs": [],
   "source": [
    "datasource_name = \"ds_postgres\"\n",
    "my_connection_string = (\n",
    "    \"postgresql+psycopg2://k6:k6@localhost:5432/k6\"\n",
    ")\n",
    "\n",
    "pg_datasource = context.sources.add_postgres(\n",
    "    name=datasource_name, connection_string=my_connection_string\n",
    ")"
   ]
  },
  {
   "cell_type": "code",
   "execution_count": 23,
   "metadata": {},
   "outputs": [
    {
     "data": {
      "text/plain": [
       "TableAsset(name='postgres_data', type='table', id=None, order_by=[], batch_metadata={}, splitter=None, table_name='streaming', schema_name='staging')"
      ]
     },
     "execution_count": 23,
     "metadata": {},
     "output_type": "execute_result"
    }
   ],
   "source": [
    "pg_datasource.add_table_asset(\n",
    "    name=\"postgres_data\", table_name='streaming', schema_name=\"staging\"\n",
    ")"
   ]
  },
  {
   "cell_type": "code",
   "execution_count": 24,
   "metadata": {},
   "outputs": [],
   "source": [
    "batch_request = pg_datasource.get_asset(\"postgres_data\").build_batch_request()"
   ]
  },
  {
   "cell_type": "code",
   "execution_count": 25,
   "metadata": {},
   "outputs": [
    {
     "data": {
      "application/vnd.jupyter.widget-view+json": {
       "model_id": "a5b65b5a098a495fa8f4864acf5c9116",
       "version_major": 2,
       "version_minor": 0
      },
      "text/plain": [
       "Calculating Metrics:   0%|          | 0/1 [00:00<?, ?it/s]"
      ]
     },
     "metadata": {},
     "output_type": "display_data"
    },
    {
     "name": "stdout",
     "output_type": "stream",
     "text": [
      "                                     id  labels  \\\n",
      "0  2c1f86cc-a95d-4b06-8e40-148f535396a9       0   \n",
      "1  dec242b5-d4f4-42fe-adf5-4850074c8e39       0   \n",
      "2  5c57e24e-bd48-40bd-a872-f48b834f3ddd       0   \n",
      "3  ddab93d1-19cc-466c-9c33-1ec88a0359b6       1   \n",
      "4  f0a11d68-4423-42e9-bb9c-a579e68162f9       0   \n",
      "\n",
      "                                           input_ids  \\\n",
      "0  [101, 2043, 2017, 2360, 20868, 3089, 10440, 35...   \n",
      "1  [101, 1061, 1054, 2057, 2725, 2023, 1024, 6986...   \n",
      "2  [101, 1000, 28144, 12043, 1010, 5925, 3985, 27...   \n",
      "3  [101, 4931, 1012, 1012, 1012, 2054, 2003, 2009...   \n",
      "4  [101, 1000, 1027, 1027, 2047, 1027, 1027, 1063...   \n",
      "\n",
      "                                      attention_mask  \n",
      "0  [1, 1, 1, 1, 1, 1, 1, 1, 1, 1, 1, 1, 1, 1, 1, ...  \n",
      "1                        [1, 1, 1, 1, 1, 1, 1, 1, 1]  \n",
      "2  [1, 1, 1, 1, 1, 1, 1, 1, 1, 1, 1, 1, 1, 1, 1, ...  \n",
      "3  [1, 1, 1, 1, 1, 1, 1, 1, 1, 1, 1, 1, 1, 1, 1, ...  \n",
      "4  [1, 1, 1, 1, 1, 1, 1, 1, 1, 1, 1, 1, 1, 1, 1, ...  \n"
     ]
    }
   ],
   "source": [
    "expectation_suite_name = \"validate_data\"\n",
    "context.add_or_update_expectation_suite(expectation_suite_name=expectation_suite_name)\n",
    "validator = context.get_validator(\n",
    "    batch_request=batch_request,\n",
    "    expectation_suite_name=expectation_suite_name,\n",
    ")\n",
    "\n",
    "print(validator.head())"
   ]
  },
  {
   "cell_type": "code",
   "execution_count": 26,
   "metadata": {},
   "outputs": [
    {
     "data": {
      "application/vnd.jupyter.widget-view+json": {
       "model_id": "2dc01140ec314d3fb9590ed3c66017ce",
       "version_major": 2,
       "version_minor": 0
      },
      "text/plain": [
       "Calculating Metrics:   0%|          | 0/8 [00:00<?, ?it/s]"
      ]
     },
     "metadata": {},
     "output_type": "display_data"
    },
    {
     "data": {
      "application/vnd.jupyter.widget-view+json": {
       "model_id": "0f138cfba2cb4147b8a0bb1f15c69ca9",
       "version_major": 2,
       "version_minor": 0
      },
      "text/plain": [
       "Calculating Metrics:   0%|          | 0/8 [00:00<?, ?it/s]"
      ]
     },
     "metadata": {},
     "output_type": "display_data"
    },
    {
     "data": {
      "application/vnd.jupyter.widget-view+json": {
       "model_id": "02a5e961bb234142a77c632c91e7abc9",
       "version_major": 2,
       "version_minor": 0
      },
      "text/plain": [
       "Calculating Metrics:   0%|          | 0/8 [00:00<?, ?it/s]"
      ]
     },
     "metadata": {},
     "output_type": "display_data"
    },
    {
     "data": {
      "application/vnd.jupyter.widget-view+json": {
       "model_id": "f049e8f1a14841e18a801f061e5f3742",
       "version_major": 2,
       "version_minor": 0
      },
      "text/plain": [
       "Calculating Metrics:   0%|          | 0/8 [00:00<?, ?it/s]"
      ]
     },
     "metadata": {},
     "output_type": "display_data"
    },
    {
     "data": {
      "text/plain": [
       "{\n",
       "  \"success\": true,\n",
       "  \"result\": {\n",
       "    \"element_count\": 1137,\n",
       "    \"unexpected_count\": 0,\n",
       "    \"unexpected_percent\": 0.0,\n",
       "    \"partial_unexpected_list\": []\n",
       "  },\n",
       "  \"meta\": {},\n",
       "  \"exception_info\": {\n",
       "    \"raised_exception\": false,\n",
       "    \"exception_traceback\": null,\n",
       "    \"exception_message\": null\n",
       "  }\n",
       "}"
      ]
     },
     "execution_count": 26,
     "metadata": {},
     "output_type": "execute_result"
    }
   ],
   "source": [
    "validator.expect_column_values_to_not_be_null(\"id\")\n",
    "validator.expect_column_values_to_not_be_null(\"labels\")\n",
    "validator.expect_column_values_to_not_be_null(\"input_ids\")\n",
    "validator.expect_column_values_to_not_be_null(\"attention_mask\")"
   ]
  },
  {
   "cell_type": "code",
   "execution_count": 27,
   "metadata": {},
   "outputs": [
    {
     "data": {
      "application/vnd.jupyter.widget-view+json": {
       "model_id": "3377b32babda421c81cd1a7b477b0ae9",
       "version_major": 2,
       "version_minor": 0
      },
      "text/plain": [
       "Calculating Metrics:   0%|          | 0/11 [00:00<?, ?it/s]"
      ]
     },
     "metadata": {},
     "output_type": "display_data"
    },
    {
     "data": {
      "application/vnd.jupyter.widget-view+json": {
       "model_id": "66f41f177bd24849b32c1cfa9c7e30d5",
       "version_major": 2,
       "version_minor": 0
      },
      "text/plain": [
       "Calculating Metrics:   0%|          | 0/10 [00:00<?, ?it/s]"
      ]
     },
     "metadata": {},
     "output_type": "display_data"
    },
    {
     "data": {
      "text/plain": [
       "{\n",
       "  \"success\": true,\n",
       "  \"result\": {\n",
       "    \"element_count\": 1137,\n",
       "    \"unexpected_count\": 0,\n",
       "    \"unexpected_percent\": 0.0,\n",
       "    \"partial_unexpected_list\": [],\n",
       "    \"missing_count\": 0,\n",
       "    \"missing_percent\": 0.0,\n",
       "    \"unexpected_percent_total\": 0.0,\n",
       "    \"unexpected_percent_nonmissing\": 0.0\n",
       "  },\n",
       "  \"meta\": {},\n",
       "  \"exception_info\": {\n",
       "    \"raised_exception\": false,\n",
       "    \"exception_traceback\": null,\n",
       "    \"exception_message\": null\n",
       "  }\n",
       "}"
      ]
     },
     "execution_count": 27,
     "metadata": {},
     "output_type": "execute_result"
    }
   ],
   "source": [
    "uuid_v4_regex = r\"^[0-9a-f]{8}-[0-9a-f]{4}-[1-5][0-9a-f]{3}-[89ab][0-9a-f]{3}-[0-9a-f]{12}$\"\n",
    "validator.expect_column_values_to_match_regex(\"id\", uuid_v4_regex, mostly=1.0)\n",
    "validator.expect_column_values_to_be_unique(\"id\")"
   ]
  },
  {
   "cell_type": "code",
   "execution_count": 28,
   "metadata": {},
   "outputs": [
    {
     "data": {
      "application/vnd.jupyter.widget-view+json": {
       "model_id": "8188b5be821a432493a512b00078155d",
       "version_major": 2,
       "version_minor": 0
      },
      "text/plain": [
       "Calculating Metrics:   0%|          | 0/11 [00:00<?, ?it/s]"
      ]
     },
     "metadata": {},
     "output_type": "display_data"
    },
    {
     "data": {
      "text/plain": [
       "{\n",
       "  \"success\": true,\n",
       "  \"result\": {\n",
       "    \"element_count\": 1137,\n",
       "    \"unexpected_count\": 0,\n",
       "    \"unexpected_percent\": 0.0,\n",
       "    \"partial_unexpected_list\": [],\n",
       "    \"missing_count\": 0,\n",
       "    \"missing_percent\": 0.0,\n",
       "    \"unexpected_percent_total\": 0.0,\n",
       "    \"unexpected_percent_nonmissing\": 0.0\n",
       "  },\n",
       "  \"meta\": {},\n",
       "  \"exception_info\": {\n",
       "    \"raised_exception\": false,\n",
       "    \"exception_traceback\": null,\n",
       "    \"exception_message\": null\n",
       "  }\n",
       "}"
      ]
     },
     "execution_count": 28,
     "metadata": {},
     "output_type": "execute_result"
    }
   ],
   "source": [
    "validator.expect_column_values_to_be_in_set(\"labels\", [0, 1])"
   ]
  },
  {
   "cell_type": "code",
   "execution_count": 29,
   "metadata": {},
   "outputs": [
    {
     "data": {
      "application/vnd.jupyter.widget-view+json": {
       "model_id": "da91a9a2f3f74dbeba0cf13ba835743c",
       "version_major": 2,
       "version_minor": 0
      },
      "text/plain": [
       "Calculating Metrics:   0%|          | 0/11 [00:00<?, ?it/s]"
      ]
     },
     "metadata": {},
     "output_type": "display_data"
    },
    {
     "data": {
      "application/vnd.jupyter.widget-view+json": {
       "model_id": "55411a4f4e25486f94b7b0ea25baff26",
       "version_major": 2,
       "version_minor": 0
      },
      "text/plain": [
       "Calculating Metrics:   0%|          | 0/11 [00:00<?, ?it/s]"
      ]
     },
     "metadata": {},
     "output_type": "display_data"
    },
    {
     "data": {
      "text/plain": [
       "{\n",
       "  \"success\": false,\n",
       "  \"result\": {\n",
       "    \"element_count\": 1137,\n",
       "    \"unexpected_count\": 1137,\n",
       "    \"unexpected_percent\": 100.0,\n",
       "    \"partial_unexpected_list\": [\n",
       "      \"[101, 2043, 2017, 2360, 20868, 3089, 10440, 3508, 3252, 1010, 2054, 3599, 2079, 2017, 2812, 1029, 1045, 2444, 2006, 2019, 20868, 3089, 11644, 3796, 2029, 3594, 8964, 11867, 6657, 11451, 1010, 1998, 1045, 1005, 1049, 2025, 2521, 2013, 1996, 7205, 3149, 1012, 15177, 2063, 2035, 2298, 1996, 2168, 2802, 3103, 9447, 8464, 1012, 1045, 1005, 2310, 2288, 1037, 2210, 8622, 2051, 2085, 2000, 6723, 2070, 2062, 7171, 1010, 2295, 1045, 2123, 1005, 1056, 2228, 1045, 1005, 2222, 2131, 2041, 2004, 2521, 2004, 8108, 2669, 1012, 2288, 2151, 11186, 1029, 1032, 2831, 102]\",\n",
       "      \"[101, 1061, 1054, 2057, 2725, 2023, 1024, 6986, 102]\",\n",
       "      \"[101, 1000, 28144, 12043, 1010, 5925, 3985, 2758, 2023, 2003, 1996, 2171, 2005, 2008, 2792, 1012, 1045, 2079, 2113, 2045, 2003, 2525, 2019, 2792, 2007, 2008, 2171, 1010, 2021, 5925, 2758, 2009, 1005, 1055, 1000, 1000, 7955, 1005, 1055, 2758, 2123, 1005, 1056, 1000, 1000, 1012, 1000, 102]\",\n",
       "      \"[101, 4931, 1012, 1012, 1012, 2054, 2003, 2009, 1012, 1012, 1030, 1064, 2831, 1012, 2054, 2003, 2009, 1012, 1012, 1012, 2019, 7262, 2177, 1997, 2070, 1059, 2361, 16597, 2015, 1012, 1012, 1012, 2040, 2024, 2204, 2012, 9846, 1010, 2969, 1011, 2805, 16405, 15061, 2040, 6080, 2039, 2151, 2028, 2040, 5176, 2068, 3980, 11113, 2102, 2037, 3424, 1011, 2591, 1998, 15615, 1006, 2512, 1007, 1011, 6691, 2012, 1059, 2361, 1029, 3198, 4133, 10513, 4095, 2000, 4550, 2039, 2010, 5248, 2084, 3277, 2033, 2512, 5054, 19570, 2389, 16234, 1012, 1012, 1012, 102]\",\n",
       "      \"[101, 1000, 1027, 1027, 2047, 1027, 1027, 1063, 1063, 5310, 8758, 21628, 2696, 2497, 1064, 8909, 1027, 21628, 2696, 2497, 1064, 8909, 1011, 1039, 1027, 2317, 21628, 2696, 2497, 1064, 18558, 1027, 2023, 5310, 2003, 1037, 6904, 13871, 4140, 1012, 21628, 2696, 2497, 1064, 18558, 1011, 1039, 1027, 2422, 16558, 5657, 21628, 2696, 2497, 1064, 3675, 1011, 1039, 1027, 2304, 21628, 2696, 2497, 1064, 5310, 16280, 20255, 2100, 1027, 12010, 16948, 3619, 21628, 2696, 2497, 1064, 2053, 11266, 1027, 21628, 2696, 2497, 1065, 1065, 21628, 2696, 2497, 21628, 2696, 2497, 1011, 1005, 1005, 2023, 23561, 8073, 4937, 20265, 25709, 2015, 1996, 5310, 1999, 12010, 1000, 102]\",\n",
       "      \"[101, 1000, 2065, 2002, 2003, 1996, 2451, 3208, 1010, 2059, 2034, 1997, 2035, 2009, 1005, 1055, 1037, 4736, 1997, 3037, 2005, 2032, 2000, 2022, 9260, 2023, 1010, 1998, 2117, 1997, 2035, 1010, 2002, 2038, 1996, 2373, 2000, 2360, 12045, 2006, 2010, 2609, 2008, 2045, 2003, 2053, 2713, 3058, 1012, 4728, 1010, 2750, 2040, 2002, 2089, 2022, 1010, 2010, 2597, 2003, 25876, 2007, 16948, 6043, 1012, 25414, 6460, 6238, 2365, 1997, 1996, 8291, 1000, 102]\",\n",
       "      \"[101, 2123, 1005, 1056, 2812, 2000, 8572, 2017, 1045, 2156, 2008, 2017, 1005, 2128, 3015, 2242, 4953, 9268, 2505, 6866, 2182, 1998, 2065, 2017, 2079, 2821, 2092, 2021, 2065, 2025, 1998, 2017, 2064, 16222, 26302, 9215, 6848, 2023, 2007, 2033, 2059, 2130, 2488, 1012, 1045, 1005, 1040, 2066, 2000, 3198, 2017, 2000, 2202, 1037, 3553, 2298, 2012, 1996, 21371, 4843, 6677, 4937, 23692, 2854, 1998, 1996, 2273, 3205, 1999, 2009, 1010, 7543, 2122, 2273, 7141, 2362, 1999, 2070, 4937, 23692, 2854, 1012, 2003, 2045, 2505, 2008, 2017, 2228, 2057, 2064, 2079, 2007, 1996, 4937, 23692, 2854, 4661, 3972, 3436, 2009, 1029, 102]\",\n",
       "      \"[101, 1010, 2322, 2285, 2294, 1006, 11396, 1007, 2017, 2442, 2025, 2377, 3384, 6718, 5024, 1016, 2008, 2411, 1012, 1043, 2860, 2003, 1996, 9433, 6718, 1037, 1012, 1045, 1012, 2008, 2253, 10974, 20357, 2044, 5024, 7488, 21345, 5616, 1005, 1055, 7865, 1012, 2539, 1024, 3590, 102]\",\n",
       "      \"[101, 1000, 1998, 2065, 2002, 2020, 1037, 8210, 1000, 1000, 3507, 3559, 1010, 1000, 1000, 1045, 2876, 1005, 1056, 2031, 2151, 3291, 2007, 2032, 1012, 2021, 2144, 2002, 3849, 2000, 2292, 1996, 2373, 1997, 2108, 2019, 4748, 10020, 2175, 2000, 2010, 2132, 1010, 1045, 2031, 2019, 3277, 2007, 2032, 1012, 3531, 3191, 2054, 3464, 1997, 2010, 2831, 3931, 2065, 2017, 2342, 4973, 1997, 2023, 1012, 1045, 1005, 1049, 1037, 29420, 2006, 1037, 2200, 2759, 4274, 6594, 2604, 1010, 1998, 1045, 2052, 2196, 8568, 1037, 9398, 3160, 2013, 1037, 5310, 1012, 1000, 102]\",\n",
       "      \"[101, 2417, 7442, 6593, 2831, 1024, 29536, 25688, 2319, 3769, 20280, 2615, 1011, 24188, 3630, 13626, 19880, 102]\",\n",
       "      \"[101, 1000, 12280, 1012, 1012, 1012, 6933, 1999, 1996, 4970, 16708, 2923, 1000, 102]\",\n",
       "      \"[101, 1998, 7065, 8743, 2010, 10086, 2015, 102]\",\n",
       "      \"[101, 1000, 2096, 1996, 2932, 1005, 1055, 15429, 4974, 2758, 1000, 1000, 2051, 1000, 1000, 1996, 5971, 2171, 2003, 2051, 4297, 1012, 2017, 2064, 4089, 2298, 2023, 2039, 1012, 2006, 1996, 2060, 2192, 1010, 11113, 2078, 2572, 3217, 2003, 2467, 1996, 5971, 2171, 1012, 2017, 2064, 2298, 2023, 2039, 2004, 2092, 1012, 1000, 102]\",\n",
       "      \"[101, 12476, 999, 2059, 1045, 1005, 2222, 3432, 27770, 2115, 5060, 1012, 4283, 999, 102]\",\n",
       "      \"[101, 1000, 2469, 1010, 2021, 1996, 2599, 2442, 4780, 7680, 7849, 4697, 10110, 1005, 1055, 2381, 1012, 1045, 3432, 2794, 2054, 1045, 2179, 4072, 1012, 2065, 3087, 6732, 2023, 2030, 2008, 6251, 2003, 21707, 2005, 1996, 2599, 1010, 2027, 2024, 6160, 2000, 6366, 2191, 10086, 2015, 1012, 2831, 1000, 102]\",\n",
       "      \"[101, 8299, 1024, 1013, 1013, 7479, 1012, 1996, 4017, 5802, 4588, 1012, 4012, 1013, 4024, 1013, 8756, 1013, 2262, 1013, 6185, 1013, 11409, 8791, 3012, 1011, 2129, 1011, 1996, 1011, 4274, 1011, 2081, 1011, 7441, 1011, 11409, 1011, 1037, 1011, 2732, 1011, 1999, 1011, 2625, 1011, 2084, 1011, 1037, 1011, 2733, 1013, 22898, 23352, 2629, 1013, 3120, 9990, 2339, 2002, 2003, 1037, 2732, 1012, 20003, 1012, 16528, 1012, 7558, 1012, 6273, 102]\",\n",
       "      \"[101, 2045, 2442, 2022, 2070, 5072, 10047, 26657, 1999, 2115, 14332, 1012, 2024, 2017, 7929, 1029, 1996, 21025, 29325, 4509, 2017, 4364, 2024, 3015, 2428, 3084, 2033, 2514, 3374, 2005, 2017, 1012, 2123, 1005, 1056, 2412, 2175, 2000, 2375, 2082, 1012, 2017, 2052, 2079, 1996, 3423, 9518, 2919, 1012, 102]\",\n",
       "      \"[101, 7526, 2339, 1996, 10086, 2015, 2081, 2104, 2026, 5310, 18442, 13076, 12392, 2050, 5470, 2020, 16407, 1029, 2027, 4694, 1005, 1056, 3158, 9305, 22556, 1010, 2074, 8503, 2006, 2070, 3806, 2044, 1045, 5444, 2012, 2047, 2259, 14421, 6904, 2278, 1012, 1998, 3531, 2123, 1005, 1056, 6366, 1996, 23561, 2013, 1996, 2831, 3931, 2144, 1045, 1005, 1049, 3394, 2085, 1012, 6486, 1012, 16327, 1012, 4229, 1012, 2676, 102]\",\n",
       "      \"[101, 1000, 2025, 2012, 2035, 1010, 2017, 2024, 2437, 1037, 13137, 2158, 6685, 2182, 1012, 1045, 2196, 3555, 1051, 1005, 2123, 11631, 5657, 2018, 2008, 2597, 1010, 2738, 2008, 14617, 1998, 6950, 1999, 1996, 2492, 6439, 1996, 16233, 2213, 2597, 1010, 2029, 2003, 3599, 2054, 1996, 14686, 2758, 1998, 2036, 2242, 1051, 1005, 2123, 11631, 5657, 10217, 2007, 1012, 2153, 1010, 1045, 2001, 4337, 2075, 1996, 9366, 2008, 2009, 2001, 1037, 1000, 1000, 18691, 2112, 1000, 1000, 2000, 4366, 2008, 21877, 3527, 21850, 6632, 2003, 1037, 4424, 10296, 1012, 2144, 2116, 6950, 2907, 2023, 2597, 1010, 2009, 2052, 2022, 15571, 2000, 2655, 2009, 18691, 1012, 1996, 8761, 2112, 2003, 4055, 1999, 1996, 2492, 1010, 2070, 7475, 2008, 2009, 2003, 2025, 1037, 8761, 2012, 2035, 1010, 2070, 2079, 1012, 2012, 1996, 2203, 1997, 1996, 2154, 1010, 2009, 2003, 1037, 3643, 8689, 1006, 2004, 26519, 4197, 2041, 3041, 1999, 1996, 11689, 1007, 1010, 2025, 1037, 4045, 16646, 1012, 2065, 2057, 5454, 2000, 2191, 2023, 3643, 8689, 1999, 1996, 3720, 1010, 2009, 2323, 2022, 3090, 4415, 1998, 2025, 9811, 2000, 2031, 1037, 4045, 3978, 1012, 1000, 102]\",\n",
       "      \"[101, 1999, 1996, 2168, 3257, 1010, 2003, 2009, 2428, 4072, 2000, 2171, 2035, 1996, 2149, 2163, 2040, 6807, 2009, 1029, 2339, 2025, 2507, 2074, 1996, 2193, 1997, 2163, 1029, 2023, 2003, 2025, 2019, 2137, 12204, 1010, 2021, 2019, 5415, 2028, 1010, 1045, 2123, 1005, 1056, 2156, 2339, 2296, 2309, 2149, 2163, 2029, 6807, 2009, 2323, 2022, 2315, 1012, 1006, 11814, 1007, 102]\"\n",
       "    ],\n",
       "    \"missing_count\": 0,\n",
       "    \"missing_percent\": 0.0,\n",
       "    \"unexpected_percent_total\": 100.0,\n",
       "    \"unexpected_percent_nonmissing\": 100.0\n",
       "  },\n",
       "  \"meta\": {},\n",
       "  \"exception_info\": {\n",
       "    \"raised_exception\": false,\n",
       "    \"exception_traceback\": null,\n",
       "    \"exception_message\": null\n",
       "  }\n",
       "}"
      ]
     },
     "execution_count": 29,
     "metadata": {},
     "output_type": "execute_result"
    }
   ],
   "source": [
    "json_array_of_ints = r\"^\\s*\\[\\s*\\d+(?:\\s*,\\s*\\d+)*\\s*\\]\\s*$\"\n",
    "validator.expect_column_values_to_match_regex(\"input_ids\", json_array_of_ints)\n",
    "validator.expect_column_values_to_match_regex(\"input_ids\", r\"^\\s*\\[\\s*101\\b\", mostly=0.99)"
   ]
  },
  {
   "cell_type": "code",
   "execution_count": 30,
   "metadata": {},
   "outputs": [
    {
     "data": {
      "application/vnd.jupyter.widget-view+json": {
       "model_id": "618590bade4d49f7bae09e405d615c8f",
       "version_major": 2,
       "version_minor": 0
      },
      "text/plain": [
       "Calculating Metrics:   0%|          | 0/11 [00:00<?, ?it/s]"
      ]
     },
     "metadata": {},
     "output_type": "display_data"
    },
    {
     "data": {
      "application/vnd.jupyter.widget-view+json": {
       "model_id": "b6875d791d5546a5ba6503a3402b95e2",
       "version_major": 2,
       "version_minor": 0
      },
      "text/plain": [
       "Calculating Metrics:   0%|          | 0/11 [00:00<?, ?it/s]"
      ]
     },
     "metadata": {},
     "output_type": "display_data"
    },
    {
     "data": {
      "text/plain": [
       "{\n",
       "  \"success\": false,\n",
       "  \"result\": {\n",
       "    \"element_count\": 1137,\n",
       "    \"unexpected_count\": 1137,\n",
       "    \"unexpected_percent\": 100.0,\n",
       "    \"partial_unexpected_list\": [\n",
       "      \"[1, 1, 1, 1, 1, 1, 1, 1, 1, 1, 1, 1, 1, 1, 1, 1, 1, 1, 1, 1, 1, 1, 1, 1, 1, 1, 1, 1, 1, 1, 1, 1, 1, 1, 1, 1, 1, 1, 1, 1, 1, 1, 1, 1, 1, 1, 1, 1, 1, 1, 1, 1, 1, 1, 1, 1, 1, 1, 1, 1, 1, 1, 1, 1, 1, 1, 1, 1, 1, 1, 1, 1, 1, 1, 1, 1, 1, 1, 1, 1, 1, 1, 1, 1, 1, 1, 1, 1, 1, 1, 1, 1]\",\n",
       "      \"[1, 1, 1, 1, 1, 1, 1, 1, 1]\",\n",
       "      \"[1, 1, 1, 1, 1, 1, 1, 1, 1, 1, 1, 1, 1, 1, 1, 1, 1, 1, 1, 1, 1, 1, 1, 1, 1, 1, 1, 1, 1, 1, 1, 1, 1, 1, 1, 1, 1, 1, 1, 1, 1, 1, 1, 1, 1, 1, 1, 1]\",\n",
       "      \"[1, 1, 1, 1, 1, 1, 1, 1, 1, 1, 1, 1, 1, 1, 1, 1, 1, 1, 1, 1, 1, 1, 1, 1, 1, 1, 1, 1, 1, 1, 1, 1, 1, 1, 1, 1, 1, 1, 1, 1, 1, 1, 1, 1, 1, 1, 1, 1, 1, 1, 1, 1, 1, 1, 1, 1, 1, 1, 1, 1, 1, 1, 1, 1, 1, 1, 1, 1, 1, 1, 1, 1, 1, 1, 1, 1, 1, 1, 1, 1, 1, 1, 1, 1, 1, 1, 1, 1, 1, 1]\",\n",
       "      \"[1, 1, 1, 1, 1, 1, 1, 1, 1, 1, 1, 1, 1, 1, 1, 1, 1, 1, 1, 1, 1, 1, 1, 1, 1, 1, 1, 1, 1, 1, 1, 1, 1, 1, 1, 1, 1, 1, 1, 1, 1, 1, 1, 1, 1, 1, 1, 1, 1, 1, 1, 1, 1, 1, 1, 1, 1, 1, 1, 1, 1, 1, 1, 1, 1, 1, 1, 1, 1, 1, 1, 1, 1, 1, 1, 1, 1, 1, 1, 1, 1, 1, 1, 1, 1, 1, 1, 1, 1, 1, 1, 1, 1, 1, 1, 1, 1, 1, 1, 1, 1, 1, 1, 1, 1, 1]\",\n",
       "      \"[1, 1, 1, 1, 1, 1, 1, 1, 1, 1, 1, 1, 1, 1, 1, 1, 1, 1, 1, 1, 1, 1, 1, 1, 1, 1, 1, 1, 1, 1, 1, 1, 1, 1, 1, 1, 1, 1, 1, 1, 1, 1, 1, 1, 1, 1, 1, 1, 1, 1, 1, 1, 1, 1, 1, 1, 1, 1, 1, 1, 1, 1, 1, 1, 1, 1, 1, 1, 1, 1, 1, 1, 1, 1]\",\n",
       "      \"[1, 1, 1, 1, 1, 1, 1, 1, 1, 1, 1, 1, 1, 1, 1, 1, 1, 1, 1, 1, 1, 1, 1, 1, 1, 1, 1, 1, 1, 1, 1, 1, 1, 1, 1, 1, 1, 1, 1, 1, 1, 1, 1, 1, 1, 1, 1, 1, 1, 1, 1, 1, 1, 1, 1, 1, 1, 1, 1, 1, 1, 1, 1, 1, 1, 1, 1, 1, 1, 1, 1, 1, 1, 1, 1, 1, 1, 1, 1, 1, 1, 1, 1, 1, 1, 1, 1, 1, 1, 1, 1, 1, 1, 1, 1, 1, 1, 1, 1, 1, 1, 1]\",\n",
       "      \"[1, 1, 1, 1, 1, 1, 1, 1, 1, 1, 1, 1, 1, 1, 1, 1, 1, 1, 1, 1, 1, 1, 1, 1, 1, 1, 1, 1, 1, 1, 1, 1, 1, 1, 1, 1, 1, 1, 1, 1, 1, 1, 1, 1, 1, 1]\",\n",
       "      \"[1, 1, 1, 1, 1, 1, 1, 1, 1, 1, 1, 1, 1, 1, 1, 1, 1, 1, 1, 1, 1, 1, 1, 1, 1, 1, 1, 1, 1, 1, 1, 1, 1, 1, 1, 1, 1, 1, 1, 1, 1, 1, 1, 1, 1, 1, 1, 1, 1, 1, 1, 1, 1, 1, 1, 1, 1, 1, 1, 1, 1, 1, 1, 1, 1, 1, 1, 1, 1, 1, 1, 1, 1, 1, 1, 1, 1, 1, 1, 1, 1, 1, 1, 1, 1, 1, 1, 1, 1, 1, 1, 1]\",\n",
       "      \"[1, 1, 1, 1, 1, 1, 1, 1, 1, 1, 1, 1, 1, 1, 1, 1, 1, 1]\",\n",
       "      \"[1, 1, 1, 1, 1, 1, 1, 1, 1, 1, 1, 1, 1, 1]\",\n",
       "      \"[1, 1, 1, 1, 1, 1, 1, 1]\",\n",
       "      \"[1, 1, 1, 1, 1, 1, 1, 1, 1, 1, 1, 1, 1, 1, 1, 1, 1, 1, 1, 1, 1, 1, 1, 1, 1, 1, 1, 1, 1, 1, 1, 1, 1, 1, 1, 1, 1, 1, 1, 1, 1, 1, 1, 1, 1, 1, 1, 1, 1, 1, 1, 1, 1, 1]\",\n",
       "      \"[1, 1, 1, 1, 1, 1, 1, 1, 1, 1, 1, 1, 1, 1, 1]\",\n",
       "      \"[1, 1, 1, 1, 1, 1, 1, 1, 1, 1, 1, 1, 1, 1, 1, 1, 1, 1, 1, 1, 1, 1, 1, 1, 1, 1, 1, 1, 1, 1, 1, 1, 1, 1, 1, 1, 1, 1, 1, 1, 1, 1, 1, 1, 1, 1, 1, 1, 1, 1]\",\n",
       "      \"[1, 1, 1, 1, 1, 1, 1, 1, 1, 1, 1, 1, 1, 1, 1, 1, 1, 1, 1, 1, 1, 1, 1, 1, 1, 1, 1, 1, 1, 1, 1, 1, 1, 1, 1, 1, 1, 1, 1, 1, 1, 1, 1, 1, 1, 1, 1, 1, 1, 1, 1, 1, 1, 1, 1, 1, 1, 1, 1, 1, 1, 1, 1, 1, 1, 1, 1, 1, 1, 1, 1, 1]\",\n",
       "      \"[1, 1, 1, 1, 1, 1, 1, 1, 1, 1, 1, 1, 1, 1, 1, 1, 1, 1, 1, 1, 1, 1, 1, 1, 1, 1, 1, 1, 1, 1, 1, 1, 1, 1, 1, 1, 1, 1, 1, 1, 1, 1, 1, 1, 1, 1, 1, 1, 1, 1]\",\n",
       "      \"[1, 1, 1, 1, 1, 1, 1, 1, 1, 1, 1, 1, 1, 1, 1, 1, 1, 1, 1, 1, 1, 1, 1, 1, 1, 1, 1, 1, 1, 1, 1, 1, 1, 1, 1, 1, 1, 1, 1, 1, 1, 1, 1, 1, 1, 1, 1, 1, 1, 1, 1, 1, 1, 1, 1, 1, 1, 1, 1, 1, 1, 1, 1, 1, 1, 1, 1, 1]\",\n",
       "      \"[1, 1, 1, 1, 1, 1, 1, 1, 1, 1, 1, 1, 1, 1, 1, 1, 1, 1, 1, 1, 1, 1, 1, 1, 1, 1, 1, 1, 1, 1, 1, 1, 1, 1, 1, 1, 1, 1, 1, 1, 1, 1, 1, 1, 1, 1, 1, 1, 1, 1, 1, 1, 1, 1, 1, 1, 1, 1, 1, 1, 1, 1, 1, 1, 1, 1, 1, 1, 1, 1, 1, 1, 1, 1, 1, 1, 1, 1, 1, 1, 1, 1, 1, 1, 1, 1, 1, 1, 1, 1, 1, 1, 1, 1, 1, 1, 1, 1, 1, 1, 1, 1, 1, 1, 1, 1, 1, 1, 1, 1, 1, 1, 1, 1, 1, 1, 1, 1, 1, 1, 1, 1, 1, 1, 1, 1, 1, 1, 1, 1, 1, 1, 1, 1, 1, 1, 1, 1, 1, 1, 1, 1, 1, 1, 1, 1, 1, 1, 1, 1, 1, 1, 1, 1, 1, 1, 1, 1, 1, 1, 1, 1, 1, 1, 1, 1, 1, 1, 1, 1, 1, 1, 1, 1, 1, 1, 1, 1, 1, 1, 1, 1, 1, 1]\",\n",
       "      \"[1, 1, 1, 1, 1, 1, 1, 1, 1, 1, 1, 1, 1, 1, 1, 1, 1, 1, 1, 1, 1, 1, 1, 1, 1, 1, 1, 1, 1, 1, 1, 1, 1, 1, 1, 1, 1, 1, 1, 1, 1, 1, 1, 1, 1, 1, 1, 1, 1, 1, 1, 1, 1, 1, 1, 1, 1, 1, 1, 1, 1, 1]\"\n",
       "    ],\n",
       "    \"missing_count\": 0,\n",
       "    \"missing_percent\": 0.0,\n",
       "    \"unexpected_percent_total\": 100.0,\n",
       "    \"unexpected_percent_nonmissing\": 100.0\n",
       "  },\n",
       "  \"meta\": {},\n",
       "  \"exception_info\": {\n",
       "    \"raised_exception\": false,\n",
       "    \"exception_traceback\": null,\n",
       "    \"exception_message\": null\n",
       "  }\n",
       "}"
      ]
     },
     "execution_count": 30,
     "metadata": {},
     "output_type": "execute_result"
    }
   ],
   "source": [
    "mask_pattern = r\"^\\s*\\[\\s*[01](?:\\s*,\\s*[01])*\\s*\\]\\s*$\"\n",
    "validator.expect_column_values_to_match_regex(\"attention_mask\", mask_pattern)\n",
    "validator.expect_column_values_to_match_regex(\"attention_mask\", r\"^\\s*\\[\\s*1\\b\", mostly=1.0)"
   ]
  },
  {
   "cell_type": "code",
   "execution_count": 32,
   "metadata": {},
   "outputs": [
    {
     "data": {
      "application/vnd.jupyter.widget-view+json": {
       "model_id": "7f910e1639354386a4be92a39d220308",
       "version_major": 2,
       "version_minor": 0
      },
      "text/plain": [
       "Calculating Metrics: 0it [00:00, ?it/s]"
      ]
     },
     "metadata": {},
     "output_type": "display_data"
    },
    {
     "name": "stdout",
     "output_type": "stream",
     "text": [
      "Opening in existing browser session.\n"
     ]
    }
   ],
   "source": [
    "# Similar to a single file, create a checkpoint to validate the result\n",
    "# Define the checkpoint\n",
    "checkpoint = context.add_or_update_checkpoint(\n",
    "    name=\"staging_checkpoint\",\n",
    "    validator=validator\n",
    ")\n",
    "\n",
    "# Get the result after validator\n",
    "checkpoint_result = checkpoint.run()\n",
    "\n",
    "# Quick view on the validation result\n",
    "context.view_validation_result(checkpoint_result)"
   ]
  }
 ],
 "metadata": {
  "kernelspec": {
   "display_name": "m2",
   "language": "python",
   "name": "python3"
  },
  "language_info": {
   "codemirror_mode": {
    "name": "ipython",
    "version": 3
   },
   "file_extension": ".py",
   "mimetype": "text/x-python",
   "name": "python",
   "nbconvert_exporter": "python",
   "pygments_lexer": "ipython3",
   "version": "3.9.23"
  }
 },
 "nbformat": 4,
 "nbformat_minor": 2
}
